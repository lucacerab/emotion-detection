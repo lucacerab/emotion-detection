{
  "nbformat": 4,
  "nbformat_minor": 0,
  "metadata": {
    "colab": {
      "name": "lyrics_download.ipynb",
      "provenance": [],
      "collapsed_sections": [],
      "authorship_tag": "ABX9TyOIcPY8v9oqufdIGCoqPJn0",
      "include_colab_link": true
    },
    "kernelspec": {
      "name": "python3",
      "display_name": "Python 3"
    },
    "language_info": {
      "name": "python"
    }
  },
  "cells": [
    {
      "cell_type": "markdown",
      "metadata": {
        "id": "view-in-github",
        "colab_type": "text"
      },
      "source": [
        "<a href=\"https://colab.research.google.com/github/lucacerab/emotion-detection/blob/main/lyrics_download.ipynb\" target=\"_parent\"><img src=\"https://colab.research.google.com/assets/colab-badge.svg\" alt=\"Open In Colab\"/></a>"
      ]
    },
    {
      "cell_type": "markdown",
      "metadata": {
        "id": "Jh27Se3-FBQm"
      },
      "source": [
        "# Imports"
      ]
    },
    {
      "cell_type": "code",
      "metadata": {
        "id": "F8mhn-dFT6h0",
        "colab": {
          "base_uri": "https://localhost:8080/"
        },
        "outputId": "fe7c97fc-ed3d-4715-ec1e-8fd699bc23bd"
      },
      "source": [
        "# Scraping songs/artists/genres\n",
        "from bs4 import BeautifulSoup\n",
        "import requests\n",
        "import pandas as pd\n",
        "import re\n",
        "from tqdm import tqdm\n",
        "\n",
        "# Get lyrics\n",
        "!pip install lyricsgenius\n",
        "import lyricsgenius"
      ],
      "execution_count": null,
      "outputs": [
        {
          "output_type": "stream",
          "text": [
            "Collecting lyricsgenius\n",
            "\u001b[?25l  Downloading https://files.pythonhosted.org/packages/0d/32/be32f6922f70fd1b9900b50b228f6585cd60a96bdf03589df738f627d388/lyricsgenius-3.0.1-py3-none-any.whl (59kB)\n",
            "\r\u001b[K     |█████▌                          | 10kB 12.9MB/s eta 0:00:01\r\u001b[K     |███████████                     | 20kB 18.1MB/s eta 0:00:01\r\u001b[K     |████████████████▌               | 30kB 16.1MB/s eta 0:00:01\r\u001b[K     |██████████████████████          | 40kB 10.5MB/s eta 0:00:01\r\u001b[K     |███████████████████████████▋    | 51kB 7.5MB/s eta 0:00:01\r\u001b[K     |████████████████████████████████| 61kB 3.9MB/s \n",
            "\u001b[?25hRequirement already satisfied: requests>=2.20.0 in /usr/local/lib/python3.7/dist-packages (from lyricsgenius) (2.23.0)\n",
            "Requirement already satisfied: beautifulsoup4>=4.6.0 in /usr/local/lib/python3.7/dist-packages (from lyricsgenius) (4.6.3)\n",
            "Requirement already satisfied: certifi>=2017.4.17 in /usr/local/lib/python3.7/dist-packages (from requests>=2.20.0->lyricsgenius) (2020.12.5)\n",
            "Requirement already satisfied: idna<3,>=2.5 in /usr/local/lib/python3.7/dist-packages (from requests>=2.20.0->lyricsgenius) (2.10)\n",
            "Requirement already satisfied: urllib3!=1.25.0,!=1.25.1,<1.26,>=1.21.1 in /usr/local/lib/python3.7/dist-packages (from requests>=2.20.0->lyricsgenius) (1.24.3)\n",
            "Requirement already satisfied: chardet<4,>=3.0.2 in /usr/local/lib/python3.7/dist-packages (from requests>=2.20.0->lyricsgenius) (3.0.4)\n",
            "Installing collected packages: lyricsgenius\n",
            "Successfully installed lyricsgenius-3.0.1\n"
          ],
          "name": "stdout"
        }
      ]
    },
    {
      "cell_type": "markdown",
      "metadata": {
        "id": "nnZvYTmGEsE8"
      },
      "source": [
        "# Scrape Billboard Year-End Hot 100 singles of 2020 page to get songs, artists and genres\n",
        "(https://en.wikipedia.org/wiki/Billboard_Year-End_Hot_100_singles_of_2020)"
      ]
    },
    {
      "cell_type": "code",
      "metadata": {
        "id": "sxROTpPfSyl-"
      },
      "source": [
        "url = 'https://en.wikipedia.org/wiki/Billboard_Year-End_Hot_100_singles_of_2020'\n",
        "\n",
        "html = requests.get(url=url).content\n",
        "soup = BeautifulSoup(html, 'html5lib')\n",
        "\n",
        "table = soup.find('table', class_='wikitable sortable').findAll('td')\n",
        "rows = [t.text for t in table]\n",
        "\n",
        "# Get rank, song name and artist from the table\n",
        "rank = [i for i in rows[0::3]]\n",
        "songs = [i.strip(\"\\\"\") for i in rows[1::3]]\n",
        "artists_raw = table[2::3]\n",
        "artists = []\n",
        "for i in artists_raw:\n",
        "  artist = i.findChild(\"a\")['title']\n",
        "  artist = re.sub(r\"\\([^()]*\\)\", \"\", artist)\n",
        "  artists.append(artist)\n",
        "\n",
        "dic = {'rank': rank, 'song': songs, 'artist': artists}     \n",
        "df = pd.DataFrame(dic)"
      ],
      "execution_count": null,
      "outputs": []
    },
    {
      "cell_type": "code",
      "metadata": {
        "colab": {
          "base_uri": "https://localhost:8080/",
          "height": 206
        },
        "id": "3QzG6OoYumfr",
        "outputId": "f628b04c-4da3-4a3e-8bca-ed362ed3c306"
      },
      "source": [
        "df.head()"
      ],
      "execution_count": null,
      "outputs": [
        {
          "output_type": "execute_result",
          "data": {
            "text/html": [
              "<div>\n",
              "<style scoped>\n",
              "    .dataframe tbody tr th:only-of-type {\n",
              "        vertical-align: middle;\n",
              "    }\n",
              "\n",
              "    .dataframe tbody tr th {\n",
              "        vertical-align: top;\n",
              "    }\n",
              "\n",
              "    .dataframe thead th {\n",
              "        text-align: right;\n",
              "    }\n",
              "</style>\n",
              "<table border=\"1\" class=\"dataframe\">\n",
              "  <thead>\n",
              "    <tr style=\"text-align: right;\">\n",
              "      <th></th>\n",
              "      <th>rank</th>\n",
              "      <th>song</th>\n",
              "      <th>artist</th>\n",
              "    </tr>\n",
              "  </thead>\n",
              "  <tbody>\n",
              "    <tr>\n",
              "      <th>0</th>\n",
              "      <td>1</td>\n",
              "      <td>Blinding Lights</td>\n",
              "      <td>The Weeknd</td>\n",
              "    </tr>\n",
              "    <tr>\n",
              "      <th>1</th>\n",
              "      <td>2</td>\n",
              "      <td>Circles</td>\n",
              "      <td>Post Malone</td>\n",
              "    </tr>\n",
              "    <tr>\n",
              "      <th>2</th>\n",
              "      <td>3</td>\n",
              "      <td>The Box</td>\n",
              "      <td>Roddy Ricch</td>\n",
              "    </tr>\n",
              "    <tr>\n",
              "      <th>3</th>\n",
              "      <td>4</td>\n",
              "      <td>Don't Start Now</td>\n",
              "      <td>Dua Lipa</td>\n",
              "    </tr>\n",
              "    <tr>\n",
              "      <th>4</th>\n",
              "      <td>5</td>\n",
              "      <td>Rockstar</td>\n",
              "      <td>DaBaby</td>\n",
              "    </tr>\n",
              "  </tbody>\n",
              "</table>\n",
              "</div>"
            ],
            "text/plain": [
              "  rank             song       artist\n",
              "0    1  Blinding Lights   The Weeknd\n",
              "1    2          Circles  Post Malone\n",
              "2    3          The Box  Roddy Ricch\n",
              "3    4  Don't Start Now     Dua Lipa\n",
              "4    5         Rockstar       DaBaby"
            ]
          },
          "metadata": {
            "tags": []
          },
          "execution_count": 3
        }
      ]
    },
    {
      "cell_type": "code",
      "metadata": {
        "id": "mF-xeP-FR5_o"
      },
      "source": [
        "# Get link to wiki page of each song from the table\n",
        "all_links = soup.find('table', class_='wikitable sortable').findAll('a')[3:]\n",
        "base_url = 'https://en.wikipedia.org'\n",
        "song_links = {}\n",
        "\n",
        "for i in all_links:\n",
        "  if i.text in songs:\n",
        "    url = base_url + i.get('href')\n",
        "    song_links[i.text] = url"
      ],
      "execution_count": null,
      "outputs": []
    },
    {
      "cell_type": "code",
      "metadata": {
        "id": "-NtvxGC0Q_yw"
      },
      "source": [
        "# Get the song's genre from its wiki page\n",
        "song_genres = {}\n",
        "\n",
        "for song, link in song_links.items():\n",
        "  html = requests.get(url=link).content\n",
        "  soup = BeautifulSoup(html, 'html5lib')\n",
        "  try: \n",
        "    genres_raw = soup.find('td', class_='infobox-data category hlist').findAll('a')\n",
        "    for i in genres_raw:\n",
        "      if i.get('title') is not None:\n",
        "        if song in song_genres:\n",
        "          # if song already in dictionary go to the next song\n",
        "          continue\n",
        "        else:\n",
        "          # if it doesnt get its genre\n",
        "          song_genres[song] = i.get('title')\n",
        "  except AttributeError:\n",
        "    continue"
      ],
      "execution_count": null,
      "outputs": []
    },
    {
      "cell_type": "code",
      "metadata": {
        "colab": {
          "base_uri": "https://localhost:8080/"
        },
        "id": "vTPzq57hUAWT",
        "outputId": "4c418f58-9e7f-4f33-d3a6-13f7f36f43a9"
      },
      "source": [
        "song_genres"
      ],
      "execution_count": null,
      "outputs": [
        {
          "output_type": "execute_result",
          "data": {
            "text/plain": [
              "{'10,000 Hours': 'Country pop',\n",
              " 'Adore You': 'Pop music',\n",
              " 'All I Want for Christmas Is You': 'Christmas music',\n",
              " 'Bad Guy': 'Electropop',\n",
              " 'Be Like That': 'Country music',\n",
              " 'Before You Go': 'Soft pop',\n",
              " 'Blinding Lights': 'Synthwave',\n",
              " 'Bluebird': 'Country music',\n",
              " 'Break My Heart': 'Dance-pop',\n",
              " \"Chasin' You\": 'Country music',\n",
              " 'Circles': 'Pop rock',\n",
              " 'Come & Go': 'Emo rap',\n",
              " 'Dance Monkey': 'Electropop',\n",
              " 'Death Bed': 'Lo-fi hip hop',\n",
              " 'Die from a Broken Heart': 'Country music',\n",
              " 'Dior': 'Drill music',\n",
              " 'Does to Me': 'Country music',\n",
              " \"Don't Start Now\": 'Nu-disco',\n",
              " 'Dynamite': 'Disco',\n",
              " \"Even Though I'm Leaving\": 'Country music',\n",
              " 'Everything I Wanted': 'Pop music',\n",
              " 'Falling': 'Contemporary R&B',\n",
              " 'For the Night': 'Hip hop music',\n",
              " 'Go Crazy': 'Contemporary R&B',\n",
              " 'Godzilla': 'Hip hop music',\n",
              " 'Good as Hell': 'Pop music',\n",
              " 'Got What I Got': 'Country music',\n",
              " 'Hard to Forget': 'Country music',\n",
              " 'Heart on Ice': 'Trap music',\n",
              " 'Heartless': 'Contemporary R&B',\n",
              " 'High Fashion': 'West Coast hip hop',\n",
              " 'Highest in the Room': 'Trap Music',\n",
              " 'Homesick': 'Country music',\n",
              " 'Hot': 'Trap music',\n",
              " 'Hot Girl Bummer': 'Pop-rap',\n",
              " 'I Hope': 'Country music',\n",
              " \"I Hope You're Happy Now\": 'Country music',\n",
              " 'ILY (I Love You Baby)': 'Chillwave',\n",
              " 'Intentions': 'Contemporary R&B',\n",
              " 'Juicy': 'Bounce music',\n",
              " 'Life Is Good': 'Trap music',\n",
              " 'Lose You to Love Me': 'Pop music',\n",
              " \"Lovin' on You\": 'Country music',\n",
              " 'Mood': 'Pop rap',\n",
              " 'Mood Swings': 'Contemporary R&B',\n",
              " 'More Than My Hometown': 'Country music',\n",
              " 'My Oh My': 'Pop music',\n",
              " 'No Guidance': 'Contemporary R&B',\n",
              " 'Nobody but You': 'Country music',\n",
              " 'One Man Band': 'Country music',\n",
              " 'One Margarita': 'Country music',\n",
              " 'One of Them Girls': 'Country music',\n",
              " 'Only Human': 'Reggae fusion',\n",
              " 'Panini': 'Hip hop music',\n",
              " 'Party Girl': 'Emo rap',\n",
              " 'Popstar': 'Hip hop music',\n",
              " 'Pussy Fairy (OTW)': 'Contemporary R&B',\n",
              " 'Rain on Me': 'Dance-pop',\n",
              " 'Ritmo (Bad Boys for Life)': 'Hip hop music',\n",
              " 'Rockstar': 'Hip hop music',\n",
              " 'Roxanne': 'Pop rap',\n",
              " 'Said Sum': 'Trap music',\n",
              " 'Savage': 'Hip hop',\n",
              " 'Savage Love (Laxed – Siren Beat)': 'Dancehall',\n",
              " 'Say So': 'Disco',\n",
              " 'Señorita': 'Latin pop',\n",
              " 'Slide': 'Contemporary R&B',\n",
              " 'Someone You Loved': 'Pop music',\n",
              " 'Stuck with U': 'Pop music',\n",
              " 'Suicidal': 'Emo rap',\n",
              " 'Sum 2 Prove': 'Trap music',\n",
              " 'Supalonely': 'Acoustic music',\n",
              " 'The Bigger Picture': 'Political hip hop',\n",
              " 'The Bones': 'Pop music',\n",
              " 'The Box': 'Hip hop',\n",
              " 'The Woo': 'Trap music',\n",
              " 'Toosie Slide': 'Trap music',\n",
              " 'Trampoline': 'Electro (music)',\n",
              " 'Truth Hurts': 'Trap music',\n",
              " 'WAP': 'Hip hop music',\n",
              " 'Walk Em Down': 'Hip hop music',\n",
              " 'Watermelon Sugar': 'Funk',\n",
              " 'We Paid': 'Trap music',\n",
              " 'Whats Poppin': 'Hip hop music',\n",
              " 'Wishing Well': 'Soft rock',\n",
              " 'Woah': 'Trap music (hip hop)',\n",
              " 'You Should Be Sad': 'Country pop',\n",
              " 'Yummy': 'Contemporary R&B'}"
            ]
          },
          "metadata": {
            "tags": []
          },
          "execution_count": 6
        }
      ]
    },
    {
      "cell_type": "code",
      "metadata": {
        "id": "TI-17Mc6PUDQ"
      },
      "source": [
        "df['genre'] = df['song'].map(song_genres)"
      ],
      "execution_count": null,
      "outputs": []
    },
    {
      "cell_type": "code",
      "metadata": {
        "colab": {
          "base_uri": "https://localhost:8080/",
          "height": 206
        },
        "id": "2K1CTra2QIxr",
        "outputId": "6d5cba03-3cfd-40e0-89d0-bd22f672b690"
      },
      "source": [
        "df.head()"
      ],
      "execution_count": null,
      "outputs": [
        {
          "output_type": "execute_result",
          "data": {
            "text/html": [
              "<div>\n",
              "<style scoped>\n",
              "    .dataframe tbody tr th:only-of-type {\n",
              "        vertical-align: middle;\n",
              "    }\n",
              "\n",
              "    .dataframe tbody tr th {\n",
              "        vertical-align: top;\n",
              "    }\n",
              "\n",
              "    .dataframe thead th {\n",
              "        text-align: right;\n",
              "    }\n",
              "</style>\n",
              "<table border=\"1\" class=\"dataframe\">\n",
              "  <thead>\n",
              "    <tr style=\"text-align: right;\">\n",
              "      <th></th>\n",
              "      <th>rank</th>\n",
              "      <th>song</th>\n",
              "      <th>artist</th>\n",
              "      <th>genre</th>\n",
              "    </tr>\n",
              "  </thead>\n",
              "  <tbody>\n",
              "    <tr>\n",
              "      <th>0</th>\n",
              "      <td>1</td>\n",
              "      <td>Blinding Lights</td>\n",
              "      <td>The Weeknd</td>\n",
              "      <td>Synthwave</td>\n",
              "    </tr>\n",
              "    <tr>\n",
              "      <th>1</th>\n",
              "      <td>2</td>\n",
              "      <td>Circles</td>\n",
              "      <td>Post Malone</td>\n",
              "      <td>Pop rock</td>\n",
              "    </tr>\n",
              "    <tr>\n",
              "      <th>2</th>\n",
              "      <td>3</td>\n",
              "      <td>The Box</td>\n",
              "      <td>Roddy Ricch</td>\n",
              "      <td>Hip hop</td>\n",
              "    </tr>\n",
              "    <tr>\n",
              "      <th>3</th>\n",
              "      <td>4</td>\n",
              "      <td>Don't Start Now</td>\n",
              "      <td>Dua Lipa</td>\n",
              "      <td>Nu-disco</td>\n",
              "    </tr>\n",
              "    <tr>\n",
              "      <th>4</th>\n",
              "      <td>5</td>\n",
              "      <td>Rockstar</td>\n",
              "      <td>DaBaby</td>\n",
              "      <td>Hip hop music</td>\n",
              "    </tr>\n",
              "  </tbody>\n",
              "</table>\n",
              "</div>"
            ],
            "text/plain": [
              "  rank             song       artist          genre\n",
              "0    1  Blinding Lights   The Weeknd      Synthwave\n",
              "1    2          Circles  Post Malone       Pop rock\n",
              "2    3          The Box  Roddy Ricch        Hip hop\n",
              "3    4  Don't Start Now     Dua Lipa       Nu-disco\n",
              "4    5         Rockstar       DaBaby  Hip hop music"
            ]
          },
          "metadata": {
            "tags": []
          },
          "execution_count": 8
        }
      ]
    },
    {
      "cell_type": "markdown",
      "metadata": {
        "id": "EgHyMjpXEoP5"
      },
      "source": [
        "# Get the lyrics of the songs through the Genius API"
      ]
    },
    {
      "cell_type": "code",
      "metadata": {
        "id": "sP2gQ9FqE4j-"
      },
      "source": [
        "api = 'xxxxxxxx' #get yours at https://genius.com/developers\n",
        "genius = lyricsgenius.Genius(api, skip_non_songs=True, excluded_terms=[\"(Remix)\", \"(Live)\"], remove_section_headers=True)"
      ],
      "execution_count": null,
      "outputs": []
    },
    {
      "cell_type": "code",
      "metadata": {
        "colab": {
          "base_uri": "https://localhost:8080/"
        },
        "id": "_qGUW1_pfuPK",
        "outputId": "f4508b5f-1be8-4265-f5c1-d4c9c39f5af0"
      },
      "source": [
        "song_lyrics = {}\n",
        "\n",
        "for index, row in df.iterrows():\n",
        "  try:\n",
        "    songs = genius.search_song(row['song'], row['artist'])\n",
        "    song_lyrics[row['song']] = songs.lyrics\n",
        "  except AttributeError:\n",
        "    continue\n",
        "  except Timeout:\n",
        "    continue"
      ],
      "execution_count": null,
      "outputs": [
        {
          "output_type": "stream",
          "text": [
            "Searching for \"Blinding Lights\" by The Weeknd...\n",
            "Done.\n",
            "Searching for \"Circles\" by Post Malone...\n",
            "Done.\n",
            "Searching for \"The Box\" by Roddy Ricch...\n",
            "Done.\n",
            "Searching for \"Don't Start Now\" by Dua Lipa...\n",
            "Done.\n",
            "Searching for \"Rockstar\" by DaBaby...\n",
            "Done.\n",
            "Searching for \"Adore You\" by Harry Styles...\n",
            "Done.\n",
            "Searching for \"Life Is Good\" by Future ...\n",
            "Done.\n",
            "Searching for \"Memories\" by Maroon 5...\n",
            "Done.\n",
            "Searching for \"The Bones\" by Maren Morris...\n",
            "Done.\n",
            "Searching for \"Someone You Loved\" by Lewis Capaldi...\n",
            "Done.\n",
            "Searching for \"Say So\" by Doja Cat...\n",
            "Done.\n",
            "Searching for \"I Hope\" by Gabby Barrett...\n",
            "Done.\n",
            "Searching for \"Whats Poppin\" by Jack Harlow...\n",
            "Done.\n",
            "Searching for \"Dance Monkey\" by Tones and I...\n",
            "Done.\n",
            "Searching for \"Savage\" by Megan Thee Stallion...\n",
            "Done.\n",
            "Searching for \"Roxanne\" by Arizona Zervas...\n",
            "Done.\n",
            "Searching for \"Intentions\" by Justin Bieber...\n",
            "Done.\n",
            "Searching for \"Everything I Wanted\" by Billie Eilish...\n",
            "Done.\n",
            "Searching for \"Roses (Imanbek Remix)\" by Saint Jhn...\n",
            "Specified song does not contain lyrics. Rejecting.\n",
            "Searching for \"Watermelon Sugar\" by Harry Styles...\n",
            "Done.\n",
            "Searching for \"Before You Go\" by Lewis Capaldi...\n",
            "Done.\n",
            "Searching for \"Falling\" by Trevor Daniel ...\n",
            "Done.\n",
            "Searching for \"10,000 Hours\" by Dan + Shay...\n",
            "Done.\n",
            "Searching for \"WAP\" by Cardi B...\n",
            "Done.\n",
            "Searching for \"Ballin'\" by Mustard ...\n",
            "Done.\n",
            "Searching for \"Hot Girl Bummer\" by Blackbear ...\n",
            "Done.\n",
            "Searching for \"Blueberry Faygo\" by Lil Mosey...\n",
            "Done.\n",
            "Searching for \"Heartless\" by The Weeknd...\n",
            "Done.\n",
            "Searching for \"Bop\" by DaBaby...\n",
            "Done.\n",
            "Searching for \"Lose You to Love Me\" by Selena Gomez...\n",
            "Done.\n",
            "Searching for \"Good as Hell\" by Lizzo...\n",
            "Done.\n",
            "Searching for \"Toosie Slide\" by Drake ...\n",
            "Done.\n",
            "Searching for \"Break My Heart\" by Dua Lipa...\n",
            "Done.\n",
            "Searching for \"Chasin' You\" by Morgan Wallen...\n",
            "Done.\n",
            "Searching for \"Savage Love (Laxed – Siren Beat)\" by Jawsh 685...\n",
            "Done.\n",
            "Searching for \"No Guidance\" by Chris Brown...\n",
            "Done.\n",
            "Searching for \"My Oh My\" by Camila Cabello...\n",
            "Done.\n",
            "Searching for \"Dynamite\" by BTS...\n",
            "Done.\n",
            "Searching for \"Go Crazy\" by Chris Brown...\n",
            "Done.\n",
            "Searching for \"High Fashion\" by Roddy Ricch...\n",
            "Done.\n",
            "Searching for \"Laugh Now Cry Later\" by Drake ...\n",
            "Done.\n",
            "Searching for \"Woah\" by Lil Baby...\n",
            "Done.\n",
            "Searching for \"Death Bed\" by Powfu...\n",
            "Done.\n",
            "Searching for \"Señorita\" by Shawn Mendes...\n",
            "Done.\n",
            "Searching for \"Highest in the Room\" by Travis Scott...\n",
            "Done.\n",
            "Searching for \"Bad Guy\" by Billie Eilish...\n",
            "Done.\n",
            "Searching for \"Mood\" by 24kGoldn...\n",
            "Done.\n",
            "Searching for \"Rain on Me\" by Lady Gaga...\n",
            "Done.\n",
            "Searching for \"For the Night\" by Pop Smoke...\n",
            "Done.\n",
            "Searching for \"Ritmo (Bad Boys for Life)\" by Black Eyed Peas...\n",
            "Done.\n",
            "Searching for \"Heart on Ice\" by Rod Wave...\n",
            "Done.\n",
            "Searching for \"Nobody but You\" by Blake Shelton...\n",
            "Done.\n",
            "Searching for \"Trampoline\" by Shaed...\n",
            "Done.\n",
            "Searching for \"Come & Go\" by Juice Wrld...\n",
            "Done.\n",
            "Searching for \"Truth Hurts\" by Lizzo...\n",
            "Done.\n",
            "Searching for \"If the World Was Ending\" by JP Saxe...\n",
            "Done.\n",
            "Searching for \"We Paid\" by Lil Baby...\n",
            "Done.\n",
            "Searching for \"Yummy\" by Justin Bieber...\n",
            "Done.\n",
            "Searching for \"One Man Band\" by Old Dominion ...\n",
            "Done.\n",
            "Searching for \"Got What I Got\" by Jason Aldean...\n",
            "Done.\n",
            "Searching for \"Sunday Best\" by Surfaces ...\n",
            "Done.\n",
            "Searching for \"Godzilla\" by Eminem...\n",
            "Done.\n",
            "Searching for \"Bandit\" by Juice Wrld...\n",
            "Done.\n",
            "Searching for \"Party Girl\" by StaySolidRocky...\n",
            "Done.\n",
            "Searching for \"Die from a Broken Heart\" by Maddie & Tae...\n",
            "Done.\n",
            "Searching for \"Popstar\" by DJ Khaled...\n",
            "Done.\n",
            "Searching for \"All I Want for Christmas Is You\" by Mariah Carey...\n",
            "Done.\n",
            "Searching for \"One of Them Girls\" by Lee Brice...\n",
            "Done.\n",
            "Searching for \"Hard to Forget\" by Sam Hunt...\n",
            "Done.\n",
            "Searching for \"One Margarita\" by Luke Bryan...\n",
            "Done.\n",
            "Searching for \"Panini\" by Lil Nas X...\n",
            "Done.\n",
            "Searching for \"Hot\" by Young Thug...\n",
            "Done.\n",
            "Searching for \"I Hope You're Happy Now\" by Carly Pearce...\n",
            "Done.\n",
            "Searching for \"Emotionally Scarred\" by Lil Baby...\n",
            "Done.\n",
            "Searching for \"Suicidal\" by YNW Melly...\n",
            "Done.\n",
            "Searching for \"The Bigger Picture\" by Lil Baby...\n",
            "Done.\n",
            "Searching for \"Only Human\" by Jonas Brothers...\n",
            "Done.\n",
            "Searching for \"The Woo\" by Pop Smoke...\n",
            "Done.\n",
            "Searching for \"Sum 2 Prove\" by Lil Baby...\n",
            "Done.\n",
            "Searching for \"Stuck with U\" by Ariana Grande...\n",
            "Done.\n",
            "Searching for \"Mood Swings\" by Pop Smoke...\n",
            "Done.\n",
            "Searching for \"You Should Be Sad\" by Halsey ...\n",
            "Done.\n",
            "Searching for \"Dior\" by Pop Smoke...\n",
            "Done.\n",
            "Searching for \"Supalonely\" by Benee...\n",
            "Done.\n",
            "Searching for \"Even Though I'm Leaving\" by Luke Combs...\n",
            "Done.\n",
            "Searching for \"The Scotts\" by Travis Scott...\n",
            "Done.\n",
            "Searching for \"Juicy\" by Doja Cat...\n",
            "Done.\n",
            "Searching for \"Be Like That\" by Kane Brown...\n",
            "Done.\n",
            "Searching for \"Homesick\" by Kane Brown...\n",
            "Done.\n",
            "Searching for \"Rags2Riches\" by Rod Wave...\n",
            "Done.\n",
            "Searching for \"Bluebird\" by Miranda Lambert...\n",
            "Done.\n",
            "Searching for \"Wishing Well\" by Juice Wrld...\n",
            "Done.\n",
            "Searching for \"Does to Me\" by Luke Combs...\n",
            "Done.\n",
            "Searching for \"Pussy Fairy (OTW)\" by Jhené Aiko...\n",
            "No results found for: 'Pussy Fairy (OTW) Jhené Aiko'\n",
            "Searching for \"ILY (I Love You Baby)\" by Surf Mesa...\n",
            "Done.\n",
            "Searching for \"More Than My Hometown\" by Morgan Wallen...\n",
            "Done.\n",
            "Searching for \"Lovin' on You\" by Luke Combs...\n",
            "Done.\n",
            "Searching for \"Said Sum\" by Moneybagg Yo...\n",
            "Done.\n",
            "Searching for \"Slide\" by H.E.R....\n",
            "Done.\n",
            "Searching for \"Walk Em Down\" by NLE Choppa...\n",
            "Done.\n"
          ],
          "name": "stdout"
        }
      ]
    },
    {
      "cell_type": "code",
      "metadata": {
        "id": "YaxW4SLiqM_V"
      },
      "source": [
        "df['lyrics'] = df['song'].map(song_lyrics)"
      ],
      "execution_count": null,
      "outputs": []
    },
    {
      "cell_type": "code",
      "metadata": {
        "colab": {
          "base_uri": "https://localhost:8080/",
          "height": 206
        },
        "id": "e_R3v3M-60Fz",
        "outputId": "d2e3051e-bd51-49a0-c2fa-f77367bd3753"
      },
      "source": [
        "df.head()"
      ],
      "execution_count": null,
      "outputs": [
        {
          "output_type": "execute_result",
          "data": {
            "text/html": [
              "<div>\n",
              "<style scoped>\n",
              "    .dataframe tbody tr th:only-of-type {\n",
              "        vertical-align: middle;\n",
              "    }\n",
              "\n",
              "    .dataframe tbody tr th {\n",
              "        vertical-align: top;\n",
              "    }\n",
              "\n",
              "    .dataframe thead th {\n",
              "        text-align: right;\n",
              "    }\n",
              "</style>\n",
              "<table border=\"1\" class=\"dataframe\">\n",
              "  <thead>\n",
              "    <tr style=\"text-align: right;\">\n",
              "      <th></th>\n",
              "      <th>rank</th>\n",
              "      <th>song</th>\n",
              "      <th>artist</th>\n",
              "      <th>genre</th>\n",
              "      <th>lyrics</th>\n",
              "    </tr>\n",
              "  </thead>\n",
              "  <tbody>\n",
              "    <tr>\n",
              "      <th>0</th>\n",
              "      <td>1</td>\n",
              "      <td>Blinding Lights</td>\n",
              "      <td>The Weeknd</td>\n",
              "      <td>Synthwave</td>\n",
              "      <td>Yeah\\n\\nI've been tryna call\\nI've been on my ...</td>\n",
              "    </tr>\n",
              "    <tr>\n",
              "      <th>1</th>\n",
              "      <td>2</td>\n",
              "      <td>Circles</td>\n",
              "      <td>Post Malone</td>\n",
              "      <td>Pop rock</td>\n",
              "      <td>Oh, oh, oh\\nOh,  oh, oh\\nOh,  oh, oh, oh, oh\\n...</td>\n",
              "    </tr>\n",
              "    <tr>\n",
              "      <th>2</th>\n",
              "      <td>3</td>\n",
              "      <td>The Box</td>\n",
              "      <td>Roddy Ricch</td>\n",
              "      <td>Hip hop</td>\n",
              "      <td>Pullin' out the coupe at the lot\\nTold 'em fuc...</td>\n",
              "    </tr>\n",
              "    <tr>\n",
              "      <th>3</th>\n",
              "      <td>4</td>\n",
              "      <td>Don't Start Now</td>\n",
              "      <td>Dua Lipa</td>\n",
              "      <td>Nu-disco</td>\n",
              "      <td>If you don't wanna see me\\n\\nDid a full one-ei...</td>\n",
              "    </tr>\n",
              "    <tr>\n",
              "      <th>4</th>\n",
              "      <td>5</td>\n",
              "      <td>Rockstar</td>\n",
              "      <td>DaBaby</td>\n",
              "      <td>Hip hop music</td>\n",
              "      <td>Woo, woo\\nI pull up like\\nHow you pull up, Bab...</td>\n",
              "    </tr>\n",
              "  </tbody>\n",
              "</table>\n",
              "</div>"
            ],
            "text/plain": [
              "  rank  ...                                             lyrics\n",
              "0    1  ...  Yeah\\n\\nI've been tryna call\\nI've been on my ...\n",
              "1    2  ...  Oh, oh, oh\\nOh,  oh, oh\\nOh,  oh, oh, oh, oh\\n...\n",
              "2    3  ...  Pullin' out the coupe at the lot\\nTold 'em fuc...\n",
              "3    4  ...  If you don't wanna see me\\n\\nDid a full one-ei...\n",
              "4    5  ...  Woo, woo\\nI pull up like\\nHow you pull up, Bab...\n",
              "\n",
              "[5 rows x 5 columns]"
            ]
          },
          "metadata": {
            "tags": []
          },
          "execution_count": 24
        }
      ]
    },
    {
      "cell_type": "code",
      "metadata": {
        "id": "aWdVNmq9ZaCR"
      },
      "source": [
        "# Save in a csv file\n",
        "df.to_csv('/content/lyrics.csv', index=None)"
      ],
      "execution_count": null,
      "outputs": []
    }
  ]
}