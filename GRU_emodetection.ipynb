{
  "nbformat": 4,
  "nbformat_minor": 0,
  "metadata": {
    "colab": {
      "name": "GRU_emodetection.ipynb",
      "provenance": [],
      "collapsed_sections": [],
      "authorship_tag": "ABX9TyP9OcfrfQ/+T+y7J3VlpVaY",
      "include_colab_link": true
    },
    "kernelspec": {
      "name": "python3",
      "display_name": "Python 3"
    },
    "language_info": {
      "name": "python"
    },
    "accelerator": "GPU"
  },
  "cells": [
    {
      "cell_type": "markdown",
      "metadata": {
        "id": "view-in-github",
        "colab_type": "text"
      },
      "source": [
        "<a href=\"https://colab.research.google.com/github/lucacerab/emotion-detection/blob/main/GRU_emodetection.ipynb\" target=\"_parent\"><img src=\"https://colab.research.google.com/assets/colab-badge.svg\" alt=\"Open In Colab\"/></a>"
      ]
    },
    {
      "cell_type": "markdown",
      "metadata": {
        "id": "Vksoy4lQTWmn"
      },
      "source": [
        "# Emotions detection in song lyrics\n",
        "The goal of this notebook is to build a classifier to extract emotions from song lyrics. Done that we can check if there is correlation between song genres and emotion. Also, we can build a playlist generator based on the user mood and preferred genre."
      ]
    },
    {
      "cell_type": "code",
      "metadata": {
        "id": "Ezmudz78TR7l",
        "colab": {
          "base_uri": "https://localhost:8080/"
        },
        "outputId": "6747b7c8-e2bf-4373-e89a-02d37b83f4ee"
      },
      "source": [
        "import pandas as pd\n",
        "import glob\n",
        "import re\n",
        "import numpy as np\n",
        "from tqdm import tqdm\n",
        "\n",
        "!pip install emoji\n",
        "import emoji\n",
        "import spacy\n",
        "\n",
        "from tensorflow.keras.preprocessing.text import Tokenizer\n",
        "from tensorflow.keras.preprocessing.sequence import pad_sequences\n",
        "import matplotlib.pyplot as plt\n",
        "\n",
        "from keras.models import Sequential\n",
        "from keras.layers import Embedding, Bidirectional, LSTM, GRU, Dense\n",
        "\n",
        "from sklearn.metrics import confusion_matrix, accuracy_score\n",
        "import seaborn as sns"
      ],
      "execution_count": null,
      "outputs": [
        {
          "output_type": "stream",
          "text": [
            "Collecting emoji\n",
            "\u001b[?25l  Downloading https://files.pythonhosted.org/packages/24/fa/b3368f41b95a286f8d300e323449ab4e86b85334c2e0b477e94422b8ed0f/emoji-1.2.0-py3-none-any.whl (131kB)\n",
            "\r\u001b[K     |██▌                             | 10kB 20.6MB/s eta 0:00:01\r\u001b[K     |█████                           | 20kB 14.5MB/s eta 0:00:01\r\u001b[K     |███████▌                        | 30kB 9.1MB/s eta 0:00:01\r\u001b[K     |██████████                      | 40kB 7.6MB/s eta 0:00:01\r\u001b[K     |████████████▌                   | 51kB 5.3MB/s eta 0:00:01\r\u001b[K     |███████████████                 | 61kB 5.7MB/s eta 0:00:01\r\u001b[K     |█████████████████▌              | 71kB 5.7MB/s eta 0:00:01\r\u001b[K     |████████████████████            | 81kB 6.0MB/s eta 0:00:01\r\u001b[K     |██████████████████████▌         | 92kB 5.9MB/s eta 0:00:01\r\u001b[K     |█████████████████████████       | 102kB 6.3MB/s eta 0:00:01\r\u001b[K     |███████████████████████████▌    | 112kB 6.3MB/s eta 0:00:01\r\u001b[K     |██████████████████████████████  | 122kB 6.3MB/s eta 0:00:01\r\u001b[K     |████████████████████████████████| 133kB 6.3MB/s \n",
            "\u001b[?25hInstalling collected packages: emoji\n",
            "Successfully installed emoji-1.2.0\n"
          ],
          "name": "stdout"
        }
      ]
    },
    {
      "cell_type": "code",
      "metadata": {
        "id": "tTvTZzV5Uf2D"
      },
      "source": [
        "# Labels\n",
        "emotions = ['anger', 'fear', 'joy', 'sadness']\n",
        "num_classes = 4\n",
        "\n",
        "# Dimensions for word embedding\n",
        "embedding_dim = 300\n",
        "\n",
        "# Max input length (# words) \n",
        "max_seq_len = 500\n",
        "\n",
        "trunc_type = 'post'\n",
        "padding_type = 'post'\n",
        "\n",
        "training_portion = 0.9\n",
        "\n",
        "seed = 123"
      ],
      "execution_count": null,
      "outputs": []
    },
    {
      "cell_type": "code",
      "metadata": {
        "id": "aXwzKxVDUiZA"
      },
      "source": [
        "# Import data\n",
        "train_df = pd.concat([pd.read_csv(f, delimiter = \"\\t\", names=['id', 'text', 'sentiment', 'intensity']) for f in glob.glob('*train.txt')], ignore_index = True)\n",
        "test_df = pd.concat([pd.read_csv(f, delimiter = \"\\t\", names=['id', 'text', 'sentiment', 'intensity']) for f in glob.glob('*test*.txt')], ignore_index = True)"
      ],
      "execution_count": null,
      "outputs": []
    },
    {
      "cell_type": "code",
      "metadata": {
        "id": "7svDz9UpUkI2",
        "colab": {
          "base_uri": "https://localhost:8080/",
          "height": 206
        },
        "outputId": "4f4032ba-0aa0-448c-e3bc-621de2329a80"
      },
      "source": [
        "train_df.head()"
      ],
      "execution_count": null,
      "outputs": [
        {
          "output_type": "execute_result",
          "data": {
            "text/html": [
              "<div>\n",
              "<style scoped>\n",
              "    .dataframe tbody tr th:only-of-type {\n",
              "        vertical-align: middle;\n",
              "    }\n",
              "\n",
              "    .dataframe tbody tr th {\n",
              "        vertical-align: top;\n",
              "    }\n",
              "\n",
              "    .dataframe thead th {\n",
              "        text-align: right;\n",
              "    }\n",
              "</style>\n",
              "<table border=\"1\" class=\"dataframe\">\n",
              "  <thead>\n",
              "    <tr style=\"text-align: right;\">\n",
              "      <th></th>\n",
              "      <th>id</th>\n",
              "      <th>text</th>\n",
              "      <th>sentiment</th>\n",
              "      <th>intensity</th>\n",
              "    </tr>\n",
              "  </thead>\n",
              "  <tbody>\n",
              "    <tr>\n",
              "      <th>0</th>\n",
              "      <td>20000</td>\n",
              "      <td>I feel like I am drowning. #depression #anxiet...</td>\n",
              "      <td>fear</td>\n",
              "      <td>0.979</td>\n",
              "    </tr>\n",
              "    <tr>\n",
              "      <th>1</th>\n",
              "      <td>20001</td>\n",
              "      <td>I get so nervous even thinking about talking t...</td>\n",
              "      <td>fear</td>\n",
              "      <td>0.979</td>\n",
              "    </tr>\n",
              "    <tr>\n",
              "      <th>2</th>\n",
              "      <td>20002</td>\n",
              "      <td>I lost my blinders .... #panic</td>\n",
              "      <td>fear</td>\n",
              "      <td>0.975</td>\n",
              "    </tr>\n",
              "    <tr>\n",
              "      <th>3</th>\n",
              "      <td>20003</td>\n",
              "      <td>I feel like I am drowning. #depression  #falur...</td>\n",
              "      <td>fear</td>\n",
              "      <td>0.938</td>\n",
              "    </tr>\n",
              "    <tr>\n",
              "      <th>4</th>\n",
              "      <td>20004</td>\n",
              "      <td>This is the scariest American Horror Story out...</td>\n",
              "      <td>fear</td>\n",
              "      <td>0.938</td>\n",
              "    </tr>\n",
              "  </tbody>\n",
              "</table>\n",
              "</div>"
            ],
            "text/plain": [
              "      id  ... intensity\n",
              "0  20000  ...     0.979\n",
              "1  20001  ...     0.979\n",
              "2  20002  ...     0.975\n",
              "3  20003  ...     0.938\n",
              "4  20004  ...     0.938\n",
              "\n",
              "[5 rows x 4 columns]"
            ]
          },
          "metadata": {
            "tags": []
          },
          "execution_count": 4
        }
      ]
    },
    {
      "cell_type": "code",
      "metadata": {
        "id": "ijnrue-2UpBJ",
        "colab": {
          "base_uri": "https://localhost:8080/",
          "height": 412
        },
        "outputId": "4340d292-dd0f-4e77-e7d0-dc5a68a55858"
      },
      "source": [
        "print(train_df.sentiment.value_counts())\n",
        "print('\\n')\n",
        "\n",
        "sns.countplot(x = train_df.sentiment)\n",
        "plt.show()"
      ],
      "execution_count": null,
      "outputs": [
        {
          "output_type": "stream",
          "text": [
            "fear       1147\n",
            "anger       857\n",
            "joy         823\n",
            "sadness     786\n",
            "Name: sentiment, dtype: int64\n",
            "\n",
            "\n"
          ],
          "name": "stdout"
        },
        {
          "output_type": "display_data",
          "data": {
            "image/png": "[encoded data removed]",
            "text/plain": [
              "<Figure size 432x288 with 1 Axes>"
            ]
          },
          "metadata": {
            "tags": [],
            "needs_background": "light"
          }
        }
      ]
    },
    {
      "cell_type": "code",
      "metadata": {
        "id": "YswvmYggUqnW",
        "colab": {
          "base_uri": "https://localhost:8080/"
        },
        "outputId": "13a86f30-f140-4966-db35-cde82ba409f1"
      },
      "source": [
        "train_df.isna().sum()\n",
        "test_df.isna().sum()"
      ],
      "execution_count": null,
      "outputs": [
        {
          "output_type": "execute_result",
          "data": {
            "text/plain": [
              "id           0\n",
              "text         0\n",
              "sentiment    0\n",
              "intensity    0\n",
              "dtype: int64"
            ]
          },
          "metadata": {
            "tags": []
          },
          "execution_count": 6
        }
      ]
    },
    {
      "cell_type": "code",
      "metadata": {
        "id": "YpIRqLOaUsc4",
        "colab": {
          "base_uri": "https://localhost:8080/"
        },
        "outputId": "19e233cd-bcbf-4d59-c0cc-64f44a7cc631"
      },
      "source": [
        "# Get train data from train_df \n",
        "trainData = [i for i in tqdm(train_df.text)]\n",
        "trainLabels = [i for i in tqdm(train_df.sentiment)]\n",
        "\n",
        "# Get test data from test_df\n",
        "testData = [i for i in tqdm(test_df.text)]\n",
        "testLabels = [i for i in tqdm(test_df.sentiment)]"
      ],
      "execution_count": null,
      "outputs": [
        {
          "output_type": "stream",
          "text": [
            "100%|██████████| 3613/3613 [00:00<00:00, 1027182.29it/s]\n",
            "100%|██████████| 3613/3613 [00:00<00:00, 777328.56it/s]\n",
            "100%|██████████| 3142/3142 [00:00<00:00, 571314.14it/s]\n",
            "100%|██████████| 3142/3142 [00:00<00:00, 373974.95it/s]\n"
          ],
          "name": "stderr"
        }
      ]
    },
    {
      "cell_type": "code",
      "metadata": {
        "id": "_Gx99sHzUxwh"
      },
      "source": [
        "# Shuffle training data\n",
        "rng = np.random.RandomState(seed)\n",
        "rng.shuffle(trainData)\n",
        "rng = np.random.RandomState(seed)\n",
        "rng.shuffle(trainLabels)\n",
        "\n",
        "# Shuffle test data\n",
        "rng = np.random.RandomState(seed)\n",
        "rng.shuffle(testData)\n",
        "rng = np.random.RandomState(seed)\n",
        "rng.shuffle(testLabels)"
      ],
      "execution_count": null,
      "outputs": []
    },
    {
      "cell_type": "code",
      "metadata": {
        "id": "yTtaElFzU08O"
      },
      "source": [
        "# Function to clean tweets\n",
        "def give_emoji_free_text(text): \n",
        "    return emoji.get_emoji_regexp().sub(r'', text)\n",
        "\n",
        "emoticon_string = r\"\"\"(\\:\\w+\\:|\\<[\\/\\\\]?3|[\\(\\)\\\\\\D|\\*\\$][\\-\\^]?[\\:\\;\\=]|[\\:\\;\\=B8][\\-\\^]?[3DOPp\\@\\$\\*\\\\\\)\\(\\/\\|])(?=\\s|[\\!\\.\\?]|$)\"\"\"\n",
        "\n",
        "def clean(string):\n",
        "    # remove graphical emoji\n",
        "    string = give_emoji_free_text(string) \n",
        "\n",
        "    # remove textual emoji\n",
        "    string = re.sub(emoticon_string, '', string)\n",
        "\n",
        "    # remove old style retweet text \"RT\"\n",
        "    string = re.sub(r'^RT[\\s]+', '', string)\n",
        "\n",
        "    # remove hyperlinks\n",
        "    string = re.sub(r'https?:\\/\\/.*[\\r\\n]*', '', string)\n",
        "\n",
        "    # remove user (@user)\n",
        "    string = re.sub(r\"\"\"(?:@[\\w_]+)\"\"\",'',string)\n",
        "\n",
        "    # remove # and keep text\n",
        "    string = re.sub(r'#', '', string)\n",
        "\n",
        "    # removing stop words \n",
        "    #string = ' '.join([w for w in string.split() if w not in stopwords])\n",
        "\n",
        "    # removing \\\\n and extra spaces\n",
        "    string = re.sub(r'\\\\n', '', string)\n",
        "    string = string.strip()\n",
        "    string = re.sub(' +', ' ', string)\n",
        "\n",
        "    return string"
      ],
      "execution_count": null,
      "outputs": []
    },
    {
      "cell_type": "code",
      "metadata": {
        "id": "CeqYY7pvU4eZ",
        "colab": {
          "base_uri": "https://localhost:8080/"
        },
        "outputId": "1ff2c38a-d29f-43bf-f524-8bf8a9b46d48"
      },
      "source": [
        "# Cleaning tweets \n",
        "trainTweets = [clean(text) for text in tqdm(trainData)]\n",
        "testTweets = [clean(text) for text in tqdm(testData)]\n",
        "\n",
        "tweets = trainTweets + testTweets"
      ],
      "execution_count": null,
      "outputs": [
        {
          "output_type": "stream",
          "text": [
            "100%|██████████| 3613/3613 [00:01<00:00, 1818.18it/s]\n",
            "100%|██████████| 3142/3142 [00:01<00:00, 2046.95it/s]\n"
          ],
          "name": "stderr"
        }
      ]
    },
    {
      "cell_type": "code",
      "metadata": {
        "id": "iJz6DxWHU6-6"
      },
      "source": [
        "# Transforming data so that the model can accept them\n",
        "tokenizer = Tokenizer()\n",
        "tokenizer.fit_on_texts(tweets) \n",
        "\n",
        "word_index = tokenizer.word_index\n",
        "vocab_size = len(word_index)\n",
        "\n",
        "train_sequences = tokenizer.texts_to_sequences(trainTweets)\n",
        "train_pad = pad_sequences(train_sequences, maxlen=max_seq_len, padding=padding_type, truncating=trunc_type)\n",
        "\n",
        "xTest = tokenizer.texts_to_sequences(testTweets)\n",
        "xTest_pad = pad_sequences(xTest, maxlen=max_seq_len, padding=padding_type, truncating=trunc_type)"
      ],
      "execution_count": null,
      "outputs": []
    },
    {
      "cell_type": "code",
      "metadata": {
        "id": "4xOQbDasU_vV"
      },
      "source": [
        "# Split traininig data in train and validation \n",
        "train_size = int(len(trainTweets) * training_portion)\n",
        "\n",
        "xTrain_pad = train_pad[:train_size]\n",
        "train_labels = trainLabels[:train_size]\n",
        "\n",
        "xVal_pad = train_pad[train_size:]\n",
        "val_labels = trainLabels[train_size:]"
      ],
      "execution_count": null,
      "outputs": []
    },
    {
      "cell_type": "code",
      "metadata": {
        "id": "qlItgsiJVB6h",
        "colab": {
          "base_uri": "https://localhost:8080/"
        },
        "outputId": "402996ab-12a5-4895-c2ee-388880e93fef"
      },
      "source": [
        "# One-hot encoding labels\n",
        "from sklearn.preprocessing import LabelBinarizer\n",
        "\n",
        "lb = LabelBinarizer()\n",
        "yTrain = lb.fit_transform(train_labels) # fit_transform finds all unique class labels and transform them in one-hot encoded labels\n",
        "yVal = lb.transform(val_labels) # transform performs one-hot encoding based on classes already found in .fit\n",
        "yTest = lb.transform(testLabels) \n",
        "\n",
        "print(\"train labels shape:\", yTrain.shape)\n",
        "print(\"val labels shape:\", yVal.shape)\n",
        "print(\"test labels shape:\", yTest.shape)"
      ],
      "execution_count": null,
      "outputs": [
        {
          "output_type": "stream",
          "text": [
            "train labels shape: (3251, 4)\n",
            "val labels shape: (362, 4)\n",
            "test labels shape: (3142, 4)\n"
          ],
          "name": "stdout"
        }
      ]
    },
    {
      "cell_type": "code",
      "metadata": {
        "id": "N2vrSimvVDw1",
        "colab": {
          "base_uri": "https://localhost:8080/"
        },
        "outputId": "b8487264-970c-46e2-9259-1d01e6034062"
      },
      "source": [
        "# Download GloVe pre-trained word vectors\n",
        "!wget http://downloads.cs.stanford.edu/nlp/data/glove.6B.zip\n",
        "!unzip -q glove.6B.zip && rm glove.6B.zip"
      ],
      "execution_count": null,
      "outputs": [
        {
          "output_type": "stream",
          "text": [
            "--2021-04-29 07:10:29--  http://downloads.cs.stanford.edu/nlp/data/glove.6B.zip\n",
            "Resolving downloads.cs.stanford.edu (downloads.cs.stanford.edu)... 171.64.64.22\n",
            "Connecting to downloads.cs.stanford.edu (downloads.cs.stanford.edu)|171.64.64.22|:80... connected.\n",
            "HTTP request sent, awaiting response... 200 OK\n",
            "Length: 862182613 (822M) [application/zip]\n",
            "Saving to: ‘glove.6B.zip’\n",
            "\n",
            "glove.6B.zip        100%[===================>] 822.24M  5.07MB/s    in 2m 40s  \n",
            "\n",
            "2021-04-29 07:13:09 (5.14 MB/s) - ‘glove.6B.zip’ saved [862182613/862182613]\n",
            "\n"
          ],
          "name": "stdout"
        }
      ]
    },
    {
      "cell_type": "code",
      "metadata": {
        "id": "kmR17oR4VFfD",
        "colab": {
          "base_uri": "https://localhost:8080/"
        },
        "outputId": "bc0b0621-482c-4177-d798-9496b1e909fe"
      },
      "source": [
        "# Dict mapping words to their vector representation\n",
        "embeddings_index = {}\n",
        "with open('/content/glove.6B.300d.txt') as f:\n",
        "    for line in f:\n",
        "        word, coefs = line.split(maxsplit=1)\n",
        "        coefs = np.fromstring(coefs, \"f\", sep=\" \")\n",
        "        embeddings_index[word] = coefs\n",
        "\n",
        "# Embedding matrix\n",
        "embeddings_matrix = np.zeros((vocab_size+1, embedding_dim))\n",
        "for word, i in word_index.items():\n",
        "    embedding_vector = embeddings_index.get(word)\n",
        "    if embedding_vector is not None:\n",
        "        embeddings_matrix[i] = embedding_vector\n",
        "\n",
        "print(embeddings_matrix.shape)"
      ],
      "execution_count": null,
      "outputs": [
        {
          "output_type": "stream",
          "text": [
            "(12852, 300)\n"
          ],
          "name": "stdout"
        }
      ]
    },
    {
      "cell_type": "code",
      "metadata": {
        "id": "1c6Bx1VEVPgP",
        "colab": {
          "base_uri": "https://localhost:8080/"
        },
        "outputId": "b772ff59-cab5-4001-c69a-92788c6a5724"
      },
      "source": [
        "# Model selection\n",
        "units = 128\n",
        "gru = True\n",
        "\n",
        "model = Sequential()\n",
        "model.add(Embedding(vocab_size+1, embedding_dim, input_length=max_seq_len, weights=[embeddings_matrix], trainable=False))\n",
        "\n",
        "if gru:\n",
        "    model.add(Bidirectional(GRU(units=units, dropout=0.2, recurrent_dropout=0.2)))\n",
        "else:\n",
        "     model.add(Bidirectional(LSTM(units=units, dropout=0.2, recurrent_dropout=0.2)))\n",
        "\n",
        "model.add(Dense(num_classes, activation='softmax'))\n",
        "\n",
        "model.compile(loss = 'categorical_crossentropy', optimizer = 'adam', metrics = ['accuracy'])\n",
        "model.summary()"
      ],
      "execution_count": null,
      "outputs": [
        {
          "output_type": "stream",
          "text": [
            "WARNING:tensorflow:Layer gru will not use cuDNN kernel since it doesn't meet the cuDNN kernel criteria. It will use generic GPU kernel as fallback when running on GPU\n",
            "WARNING:tensorflow:Layer gru will not use cuDNN kernel since it doesn't meet the cuDNN kernel criteria. It will use generic GPU kernel as fallback when running on GPU\n",
            "WARNING:tensorflow:Layer gru will not use cuDNN kernel since it doesn't meet the cuDNN kernel criteria. It will use generic GPU kernel as fallback when running on GPU\n",
            "Model: \"sequential\"\n",
            "_________________________________________________________________\n",
            "Layer (type)                 Output Shape              Param #   \n",
            "=================================================================\n",
            "embedding (Embedding)        (None, 500, 300)          3855600   \n",
            "_________________________________________________________________\n",
            "bidirectional (Bidirectional (None, 256)               330240    \n",
            "_________________________________________________________________\n",
            "dense (Dense)                (None, 4)                 1028      \n",
            "=================================================================\n",
            "Total params: 4,186,868\n",
            "Trainable params: 331,268\n",
            "Non-trainable params: 3,855,600\n",
            "_________________________________________________________________\n"
          ],
          "name": "stdout"
        }
      ]
    },
    {
      "cell_type": "code",
      "metadata": {
        "id": "X1WYb-PHVbnM",
        "colab": {
          "base_uri": "https://localhost:8080/"
        },
        "outputId": "24343810-bca6-45c9-e7c2-bb743beafb9c"
      },
      "source": [
        "batch_size = 128\n",
        "epochs = 10\n",
        "\n",
        "hist = model.fit(xTrain_pad, yTrain, \n",
        "                 batch_size=batch_size,\n",
        "                 epochs=epochs,\n",
        "                 validation_data=(xVal_pad, yVal))"
      ],
      "execution_count": null,
      "outputs": [
        {
          "output_type": "stream",
          "text": [
            "Epoch 1/10\n",
            "26/26 [==============================] - 72s 3s/step - loss: 1.3771 - accuracy: 0.3161 - val_loss: 1.2966 - val_accuracy: 0.4006\n",
            "Epoch 2/10\n",
            "26/26 [==============================] - 65s 3s/step - loss: 1.2583 - accuracy: 0.4345 - val_loss: 1.1542 - val_accuracy: 0.4724\n",
            "Epoch 3/10\n",
            "26/26 [==============================] - 66s 3s/step - loss: 1.0594 - accuracy: 0.5518 - val_loss: 0.9194 - val_accuracy: 0.5994\n",
            "Epoch 4/10\n",
            "26/26 [==============================] - 67s 3s/step - loss: 0.8359 - accuracy: 0.6718 - val_loss: 0.7643 - val_accuracy: 0.7044\n",
            "Epoch 5/10\n",
            "26/26 [==============================] - 64s 2s/step - loss: 0.6203 - accuracy: 0.7626 - val_loss: 0.6714 - val_accuracy: 0.7293\n",
            "Epoch 6/10\n",
            "26/26 [==============================] - 66s 3s/step - loss: 0.5645 - accuracy: 0.7988 - val_loss: 0.5955 - val_accuracy: 0.7928\n",
            "Epoch 7/10\n",
            "26/26 [==============================] - 66s 3s/step - loss: 0.4550 - accuracy: 0.8434 - val_loss: 0.5701 - val_accuracy: 0.7901\n",
            "Epoch 8/10\n",
            "26/26 [==============================] - 66s 3s/step - loss: 0.4043 - accuracy: 0.8472 - val_loss: 0.5472 - val_accuracy: 0.7928\n",
            "Epoch 9/10\n",
            "26/26 [==============================] - 65s 3s/step - loss: 0.3463 - accuracy: 0.8758 - val_loss: 0.5266 - val_accuracy: 0.8094\n",
            "Epoch 10/10\n",
            "26/26 [==============================] - 65s 3s/step - loss: 0.3187 - accuracy: 0.8866 - val_loss: 0.5001 - val_accuracy: 0.8122\n"
          ],
          "name": "stdout"
        }
      ]
    },
    {
      "cell_type": "code",
      "metadata": {
        "id": "rVR_-PchVdbb",
        "colab": {
          "base_uri": "https://localhost:8080/",
          "height": 543
        },
        "outputId": "d24226b7-4275-4bb7-fbc5-b8b0bf6247a2"
      },
      "source": [
        "def plot_graphs(history, string):\n",
        "  plt.plot(history.history[string])\n",
        "  plt.plot(history.history['val_'+string])\n",
        "  plt.xlabel(\"Epochs\")\n",
        "  plt.ylabel(string)\n",
        "  plt.legend([string, 'val_'+string])\n",
        "  plt.show()\n",
        "  \n",
        "plot_graphs(hist, \"accuracy\")\n",
        "plot_graphs(hist, \"loss\")"
      ],
      "execution_count": null,
      "outputs": [
        {
          "output_type": "display_data",
          "data": {
            "image/png": "[encoded data removed]",
            "text/plain": [
              "<Figure size 432x288 with 1 Axes>"
            ]
          },
          "metadata": {
            "tags": [],
            "needs_background": "light"
          }
        },
        {
          "output_type": "display_data",
          "data": {
            "image/png": "[encoded data removed]",
            "text/plain": [
              "<Figure size 432x288 with 1 Axes>"
            ]
          },
          "metadata": {
            "tags": [],
            "needs_background": "light"
          }
        }
      ]
    },
    {
      "cell_type": "code",
      "metadata": {
        "id": "8ElgX8R-VfUM"
      },
      "source": [
        "# Make predictions on test set\n",
        "Y_pred = model.predict(xTest_pad)\n",
        "y_pred = np.argmax(Y_pred, axis=1)\n",
        "y_true = np.argmax(yTest, axis=1)"
      ],
      "execution_count": null,
      "outputs": []
    },
    {
      "cell_type": "code",
      "metadata": {
        "id": "O9CSwMcMVhfA",
        "colab": {
          "base_uri": "https://localhost:8080/"
        },
        "outputId": "220e4cc0-8a81-46ff-a92d-daf2cb3f4c21"
      },
      "source": [
        "print(\"Accuracy: {:.2f}%\".format(accuracy_score(y_true, y_pred) * 100))"
      ],
      "execution_count": null,
      "outputs": [
        {
          "output_type": "stream",
          "text": [
            "Accuracy: 80.52%\n"
          ],
          "name": "stdout"
        }
      ]
    },
    {
      "cell_type": "code",
      "metadata": {
        "id": "OzCGh1GoVjXG"
      },
      "source": [
        "# https://scikit-learn.org/0.20/auto_examples/model_selection/plot_confusion_matrix.html\n",
        "\n",
        "def plot_confusion_matrix(y_true, y_pred, classes,\n",
        "                          normalize=False,\n",
        "                          title=None,\n",
        "                          cmap=plt.cm.Blues):\n",
        "    \"\"\"\n",
        "    This function prints and plots the confusion matrix.\n",
        "    Normalization can be applied by setting `normalize=True`.\n",
        "    \"\"\"\n",
        "    if not title:\n",
        "        if normalize:\n",
        "            title = 'Normalized confusion matrix'\n",
        "        else:\n",
        "            title = 'Confusion matrix, without normalization'\n",
        "\n",
        "    # Compute confusion matrix\n",
        "    cm = confusion_matrix(y_true, y_pred)\n",
        "    \n",
        "    if normalize:\n",
        "        cm = cm.astype('float') / cm.sum(axis=1)[:, np.newaxis]\n",
        "\n",
        "    fig, ax = plt.subplots()\n",
        "\n",
        "    # Set size\n",
        "    fig.set_size_inches(12.5, 7.5)\n",
        "    im = ax.imshow(cm, interpolation='nearest', cmap=cmap)\n",
        "    ax.figure.colorbar(im, ax=ax)\n",
        "    ax.grid(False)\n",
        "\n",
        "    # We want to show all ticks...\n",
        "    ax.set(xticks=np.arange(cm.shape[1]),\n",
        "           yticks=np.arange(cm.shape[0]),\n",
        "           # ... and label them with the respective list entries\n",
        "           xticklabels=classes, yticklabels=classes,\n",
        "           title=title,\n",
        "           ylabel='True label',\n",
        "           xlabel='Predicted label')\n",
        "\n",
        "    # Rotate the tick labels and set their alignment.\n",
        "    plt.setp(ax.get_xticklabels(), rotation=45, ha=\"right\",\n",
        "             rotation_mode=\"anchor\")\n",
        "\n",
        "    # Loop over data dimensions and create text annotations.\n",
        "    fmt = '.2f' if normalize else 'd'\n",
        "    thresh = cm.max() / 2.\n",
        "    for i in range(cm.shape[0]):\n",
        "        for j in range(cm.shape[1]):\n",
        "            ax.text(j, i, format(cm[i, j], fmt),\n",
        "                    ha=\"center\", va=\"center\",\n",
        "                    color=\"white\" if cm[i, j] > thresh else \"black\")\n",
        "    fig.tight_layout()\n",
        "    return ax"
      ],
      "execution_count": null,
      "outputs": []
    },
    {
      "cell_type": "code",
      "metadata": {
        "id": "UPZHbyBhVlUo",
        "colab": {
          "base_uri": "https://localhost:8080/",
          "height": 549
        },
        "outputId": "10e2cfd8-711f-4dbf-dfa5-d2f6f424b714"
      },
      "source": [
        "# Plot normalized confusion matrix\n",
        "plot_confusion_matrix(y_true, y_pred, classes=emotions, normalize=True, title='Normalized confusion matrix')\n",
        "plt.show()"
      ],
      "execution_count": null,
      "outputs": [
        {
          "output_type": "display_data",
          "data": {
            "image/png": "[encoded data removed]",
            "text/plain": [
              "<Figure size 900x540 with 2 Axes>"
            ]
          },
          "metadata": {
            "tags": [],
            "needs_background": "light"
          }
        }
      ]
    },
    {
      "cell_type": "markdown",
      "metadata": {
        "id": "59hkVEHcVq13"
      },
      "source": [
        "Let's use the model to predict emotions from song lyrics"
      ]
    },
    {
      "cell_type": "code",
      "metadata": {
        "id": "55uBa6fXVqZF",
        "colab": {
          "base_uri": "https://localhost:8080/",
          "height": 206
        },
        "outputId": "5592863d-aff0-4781-94c5-378bf827ada9"
      },
      "source": [
        "songs = pd.read_csv('/content/lyrics.csv', encoding='utf8').dropna()\n",
        "songs.head()"
      ],
      "execution_count": null,
      "outputs": [
        {
          "output_type": "execute_result",
          "data": {
            "text/html": [
              "<div>\n",
              "<style scoped>\n",
              "    .dataframe tbody tr th:only-of-type {\n",
              "        vertical-align: middle;\n",
              "    }\n",
              "\n",
              "    .dataframe tbody tr th {\n",
              "        vertical-align: top;\n",
              "    }\n",
              "\n",
              "    .dataframe thead th {\n",
              "        text-align: right;\n",
              "    }\n",
              "</style>\n",
              "<table border=\"1\" class=\"dataframe\">\n",
              "  <thead>\n",
              "    <tr style=\"text-align: right;\">\n",
              "      <th></th>\n",
              "      <th>rank</th>\n",
              "      <th>song</th>\n",
              "      <th>artist</th>\n",
              "      <th>genre</th>\n",
              "      <th>lyrics</th>\n",
              "    </tr>\n",
              "  </thead>\n",
              "  <tbody>\n",
              "    <tr>\n",
              "      <th>0</th>\n",
              "      <td>1</td>\n",
              "      <td>Blinding Lights</td>\n",
              "      <td>The Weeknd</td>\n",
              "      <td>Synthwave</td>\n",
              "      <td>Yeah\\n\\nI've been tryna call\\nI've been on my ...</td>\n",
              "    </tr>\n",
              "    <tr>\n",
              "      <th>1</th>\n",
              "      <td>2</td>\n",
              "      <td>Circles</td>\n",
              "      <td>Post Malone</td>\n",
              "      <td>Pop rock</td>\n",
              "      <td>Oh, oh, oh\\nOh,  oh, oh\\nOh,  oh, oh, oh, oh\\n...</td>\n",
              "    </tr>\n",
              "    <tr>\n",
              "      <th>2</th>\n",
              "      <td>3</td>\n",
              "      <td>The Box</td>\n",
              "      <td>Roddy Ricch</td>\n",
              "      <td>Hip hop</td>\n",
              "      <td>Pullin' out the coupe at the lot\\nTold 'em fuc...</td>\n",
              "    </tr>\n",
              "    <tr>\n",
              "      <th>3</th>\n",
              "      <td>4</td>\n",
              "      <td>Don't Start Now</td>\n",
              "      <td>Dua Lipa</td>\n",
              "      <td>Nu-disco</td>\n",
              "      <td>If you don't wanna see me\\n\\nDid a full one-ei...</td>\n",
              "    </tr>\n",
              "    <tr>\n",
              "      <th>4</th>\n",
              "      <td>5</td>\n",
              "      <td>Rockstar</td>\n",
              "      <td>DaBaby</td>\n",
              "      <td>Hip hop music</td>\n",
              "      <td>Woo, woo\\nI pull up like\\nHow you pull up, Bab...</td>\n",
              "    </tr>\n",
              "  </tbody>\n",
              "</table>\n",
              "</div>"
            ],
            "text/plain": [
              "   rank  ...                                             lyrics\n",
              "0     1  ...  Yeah\\n\\nI've been tryna call\\nI've been on my ...\n",
              "1     2  ...  Oh, oh, oh\\nOh,  oh, oh\\nOh,  oh, oh, oh, oh\\n...\n",
              "2     3  ...  Pullin' out the coupe at the lot\\nTold 'em fuc...\n",
              "3     4  ...  If you don't wanna see me\\n\\nDid a full one-ei...\n",
              "4     5  ...  Woo, woo\\nI pull up like\\nHow you pull up, Bab...\n",
              "\n",
              "[5 rows x 5 columns]"
            ]
          },
          "metadata": {
            "tags": []
          },
          "execution_count": 25
        }
      ]
    },
    {
      "cell_type": "code",
      "metadata": {
        "id": "BixgW-Q-V0gy"
      },
      "source": [
        "# Get song lyrics\n",
        "rawLyrics = []\n",
        "for lyrics in songs.lyrics:\n",
        "  lyrics = re.sub('\\n', ' ', lyrics)\n",
        "  rawLyrics.append(lyrics)\n",
        "\n",
        "lyrics = []\n",
        "for l in rawLyrics:\n",
        "  lyric = (l.encode('ascii', 'ignore')).decode(\"utf-8\")\n",
        "  lyric = re.sub('\\'', ' ', lyric)\n",
        "  lyrics.append(lyric)"
      ],
      "execution_count": null,
      "outputs": []
    },
    {
      "cell_type": "code",
      "metadata": {
        "id": "UajN1DGRV6Wa"
      },
      "source": [
        "# Make predictions\n",
        "preds = []\n",
        "for l in lyrics:\n",
        "  seq = tokenizer.texts_to_sequences([l])\n",
        "  padded = pad_sequences(seq, maxlen=max_seq_len, padding=padding_type, truncating=trunc_type)\n",
        "\n",
        "  pred = model.predict(padded)\n",
        "  prediction = lb.inverse_transform(pred)\n",
        "  for p in prediction:\n",
        "    preds.append(p)"
      ],
      "execution_count": null,
      "outputs": []
    },
    {
      "cell_type": "code",
      "metadata": {
        "id": "3qb7pHjEWB-X",
        "colab": {
          "base_uri": "https://localhost:8080/",
          "height": 206
        },
        "outputId": "b9a3606c-25a9-48dc-e32e-48acbed73b69"
      },
      "source": [
        "songs['emotion'] = preds\n",
        "songs.head()"
      ],
      "execution_count": null,
      "outputs": [
        {
          "output_type": "execute_result",
          "data": {
            "text/html": [
              "<div>\n",
              "<style scoped>\n",
              "    .dataframe tbody tr th:only-of-type {\n",
              "        vertical-align: middle;\n",
              "    }\n",
              "\n",
              "    .dataframe tbody tr th {\n",
              "        vertical-align: top;\n",
              "    }\n",
              "\n",
              "    .dataframe thead th {\n",
              "        text-align: right;\n",
              "    }\n",
              "</style>\n",
              "<table border=\"1\" class=\"dataframe\">\n",
              "  <thead>\n",
              "    <tr style=\"text-align: right;\">\n",
              "      <th></th>\n",
              "      <th>rank</th>\n",
              "      <th>song</th>\n",
              "      <th>artist</th>\n",
              "      <th>genre</th>\n",
              "      <th>lyrics</th>\n",
              "      <th>emotion</th>\n",
              "    </tr>\n",
              "  </thead>\n",
              "  <tbody>\n",
              "    <tr>\n",
              "      <th>0</th>\n",
              "      <td>1</td>\n",
              "      <td>Blinding Lights</td>\n",
              "      <td>The Weeknd</td>\n",
              "      <td>Synthwave</td>\n",
              "      <td>Yeah\\n\\nI've been tryna call\\nI've been on my ...</td>\n",
              "      <td>anger</td>\n",
              "    </tr>\n",
              "    <tr>\n",
              "      <th>1</th>\n",
              "      <td>2</td>\n",
              "      <td>Circles</td>\n",
              "      <td>Post Malone</td>\n",
              "      <td>Pop rock</td>\n",
              "      <td>Oh, oh, oh\\nOh,  oh, oh\\nOh,  oh, oh, oh, oh\\n...</td>\n",
              "      <td>anger</td>\n",
              "    </tr>\n",
              "    <tr>\n",
              "      <th>2</th>\n",
              "      <td>3</td>\n",
              "      <td>The Box</td>\n",
              "      <td>Roddy Ricch</td>\n",
              "      <td>Hip hop</td>\n",
              "      <td>Pullin' out the coupe at the lot\\nTold 'em fuc...</td>\n",
              "      <td>anger</td>\n",
              "    </tr>\n",
              "    <tr>\n",
              "      <th>3</th>\n",
              "      <td>4</td>\n",
              "      <td>Don't Start Now</td>\n",
              "      <td>Dua Lipa</td>\n",
              "      <td>Nu-disco</td>\n",
              "      <td>If you don't wanna see me\\n\\nDid a full one-ei...</td>\n",
              "      <td>anger</td>\n",
              "    </tr>\n",
              "    <tr>\n",
              "      <th>4</th>\n",
              "      <td>5</td>\n",
              "      <td>Rockstar</td>\n",
              "      <td>DaBaby</td>\n",
              "      <td>Hip hop music</td>\n",
              "      <td>Woo, woo\\nI pull up like\\nHow you pull up, Bab...</td>\n",
              "      <td>anger</td>\n",
              "    </tr>\n",
              "  </tbody>\n",
              "</table>\n",
              "</div>"
            ],
            "text/plain": [
              "   rank  ... emotion\n",
              "0     1  ...   anger\n",
              "1     2  ...   anger\n",
              "2     3  ...   anger\n",
              "3     4  ...   anger\n",
              "4     5  ...   anger\n",
              "\n",
              "[5 rows x 6 columns]"
            ]
          },
          "metadata": {
            "tags": []
          },
          "execution_count": 28
        }
      ]
    },
    {
      "cell_type": "markdown",
      "metadata": {
        "id": "UZaDy6pWWLM9"
      },
      "source": [
        "Are emotions correlated to song genres?"
      ]
    },
    {
      "cell_type": "code",
      "metadata": {
        "id": "QEe4AYfsWNXh",
        "colab": {
          "base_uri": "https://localhost:8080/",
          "height": 206
        },
        "outputId": "fd766e30-97dc-4647-ea18-515c7b40c25a"
      },
      "source": [
        "dic = {'hiphop': 'Hip hop,Hip hop music,Trap music,Pop rap,Pop-rap,West Coast hip hop,Trap music (hip hop),Lo-fi hip hop,Trap Music,Emo rap,Political hip hop,Drill music,Bounce music',\n",
        "       'rock': 'Soft rock,Pop rock',\n",
        "       'rnb': 'Contemporary R&B,Funk',\n",
        "       'pop': 'Pop music,Latin pop,Soft pop,Christmas music',\n",
        "       'dance': 'Synthwave,Nu-disco,Disco,Electro (music),Chillwave,Electropop,Dance-pop',\n",
        "       'country': 'Country music,Country pop',\n",
        "       'acoustic': 'Acoustic music',\n",
        "       'reggae': 'Dancehall,Reggae fusion'}\n",
        "\n",
        "d = {k: oldKey for oldKey, oldValue in dic.items() for k in oldValue.split(',')}\n",
        "\n",
        "songs['general_genre'] = songs['genre'].map(d)\n",
        "songs.head()"
      ],
      "execution_count": null,
      "outputs": [
        {
          "output_type": "execute_result",
          "data": {
            "text/html": [
              "<div>\n",
              "<style scoped>\n",
              "    .dataframe tbody tr th:only-of-type {\n",
              "        vertical-align: middle;\n",
              "    }\n",
              "\n",
              "    .dataframe tbody tr th {\n",
              "        vertical-align: top;\n",
              "    }\n",
              "\n",
              "    .dataframe thead th {\n",
              "        text-align: right;\n",
              "    }\n",
              "</style>\n",
              "<table border=\"1\" class=\"dataframe\">\n",
              "  <thead>\n",
              "    <tr style=\"text-align: right;\">\n",
              "      <th></th>\n",
              "      <th>rank</th>\n",
              "      <th>song</th>\n",
              "      <th>artist</th>\n",
              "      <th>genre</th>\n",
              "      <th>lyrics</th>\n",
              "      <th>emotion</th>\n",
              "      <th>general_genre</th>\n",
              "    </tr>\n",
              "  </thead>\n",
              "  <tbody>\n",
              "    <tr>\n",
              "      <th>0</th>\n",
              "      <td>1</td>\n",
              "      <td>Blinding Lights</td>\n",
              "      <td>The Weeknd</td>\n",
              "      <td>Synthwave</td>\n",
              "      <td>Yeah\\n\\nI've been tryna call\\nI've been on my ...</td>\n",
              "      <td>anger</td>\n",
              "      <td>dance</td>\n",
              "    </tr>\n",
              "    <tr>\n",
              "      <th>1</th>\n",
              "      <td>2</td>\n",
              "      <td>Circles</td>\n",
              "      <td>Post Malone</td>\n",
              "      <td>Pop rock</td>\n",
              "      <td>Oh, oh, oh\\nOh,  oh, oh\\nOh,  oh, oh, oh, oh\\n...</td>\n",
              "      <td>anger</td>\n",
              "      <td>rock</td>\n",
              "    </tr>\n",
              "    <tr>\n",
              "      <th>2</th>\n",
              "      <td>3</td>\n",
              "      <td>The Box</td>\n",
              "      <td>Roddy Ricch</td>\n",
              "      <td>Hip hop</td>\n",
              "      <td>Pullin' out the coupe at the lot\\nTold 'em fuc...</td>\n",
              "      <td>anger</td>\n",
              "      <td>hiphop</td>\n",
              "    </tr>\n",
              "    <tr>\n",
              "      <th>3</th>\n",
              "      <td>4</td>\n",
              "      <td>Don't Start Now</td>\n",
              "      <td>Dua Lipa</td>\n",
              "      <td>Nu-disco</td>\n",
              "      <td>If you don't wanna see me\\n\\nDid a full one-ei...</td>\n",
              "      <td>anger</td>\n",
              "      <td>dance</td>\n",
              "    </tr>\n",
              "    <tr>\n",
              "      <th>4</th>\n",
              "      <td>5</td>\n",
              "      <td>Rockstar</td>\n",
              "      <td>DaBaby</td>\n",
              "      <td>Hip hop music</td>\n",
              "      <td>Woo, woo\\nI pull up like\\nHow you pull up, Bab...</td>\n",
              "      <td>anger</td>\n",
              "      <td>hiphop</td>\n",
              "    </tr>\n",
              "  </tbody>\n",
              "</table>\n",
              "</div>"
            ],
            "text/plain": [
              "   rank             song  ... emotion general_genre\n",
              "0     1  Blinding Lights  ...   anger         dance\n",
              "1     2          Circles  ...   anger          rock\n",
              "2     3          The Box  ...   anger        hiphop\n",
              "3     4  Don't Start Now  ...   anger         dance\n",
              "4     5         Rockstar  ...   anger        hiphop\n",
              "\n",
              "[5 rows x 7 columns]"
            ]
          },
          "metadata": {
            "tags": []
          },
          "execution_count": 29
        }
      ]
    },
    {
      "cell_type": "code",
      "metadata": {
        "id": "8Ecv_x2UWwWS",
        "colab": {
          "base_uri": "https://localhost:8080/",
          "height": 505
        },
        "outputId": "0f18ca01-3d92-44ae-ae89-00a93f53624e"
      },
      "source": [
        "# Correlation matrix between emotions and music genres\n",
        "corr_df = pd.crosstab(songs.emotion, songs.general_genre, rownames=['Emotions'], colnames=['Genres'], normalize='columns')\n",
        "\n",
        "plt.figure(figsize=(16, 8))\n",
        "sns.set(font_scale=1.1)\n",
        "sns.heatmap(corr_df, annot = True, cmap= 'coolwarm', cbar=False);"
      ],
      "execution_count": null,
      "outputs": [
        {
          "output_type": "display_data",
          "data": {
            "image/png": "[encoded data removed]",
            "text/plain": [
              "<Figure size 1152x576 with 1 Axes>"
            ]
          },
          "metadata": {
            "tags": [],
            "needs_background": "light"
          }
        }
      ]
    },
    {
      "cell_type": "markdown",
      "metadata": {
        "id": "PWeSSDTcW5bb"
      },
      "source": [
        "Playlist generator based on user's mood and genre preferences"
      ]
    },
    {
      "cell_type": "code",
      "metadata": {
        "id": "ndIaPF7KW5yx",
        "colab": {
          "base_uri": "https://localhost:8080/"
        },
        "outputId": "5c0aacd4-ae3c-4431-9193-54143a9b436e"
      },
      "source": [
        "# Playlist generator \n",
        "prefGenre = input(\"What genre you'd like to listen to? \")\n",
        "mood = input(\"What's your mood? \") \n",
        "print('\\n')\n",
        "\n",
        "playDF = songs[(songs['general_genre'] == prefGenre) & (songs['emotion'] == mood)]\n",
        "\n",
        "play = {}\n",
        "for index, row in playDF.iterrows():\n",
        "  play[row['song']] = row['artist']\n",
        "\n",
        "print('Go listen these songs:')\n",
        "for k,v in play.items():\n",
        "  print(k + ' - ' + v)"
      ],
      "execution_count": null,
      "outputs": [
        {
          "output_type": "stream",
          "text": [
            "What genre you'd like to listen to? hiphop\n",
            "What's your mood? sadness\n",
            "\n",
            "\n",
            "Go listen these songs:\n",
            "Toosie Slide - Drake \n",
            "Death Bed - Powfu\n",
            "Heart on Ice - Rod Wave\n",
            "Suicidal - YNW Melly\n"
          ],
          "name": "stdout"
        }
      ]
    }
  ]
}